{
 "cells": [
  {
   "cell_type": "markdown",
   "metadata": {},
   "source": [
    "Begiratu https://www-amdis.iaea.org/cgi-bin/ALADDIN/query.pl\n"
   ]
  },
  {
   "cell_type": "code",
   "execution_count": 14,
   "metadata": {},
   "outputs": [],
   "source": [
    "import numpy as np\n",
    "import matplotlib.pyplot as plt\n",
    "from scipy.optimize import fsolve\n",
    "import warnings\n",
    "from scipy.interpolate import griddata\n",
    "from scipy import interpolate\n",
    "import matplotlib as mpl\n",
    "from mpl_toolkits.mplot3d import Axes3D\n",
    "from GlobalModel_Class import GlobalModel\n",
    "import Reactions as R\n",
    "\n",
    "warnings.filterwarnings('ignore')"
   ]
  },
  {
   "cell_type": "markdown",
   "metadata": {},
   "source": [
    "### Leer PEC y interpolar las lineas alfa, beta y gamma de Balmer (estan en funcion de ne y e)"
   ]
  },
  {
   "cell_type": "code",
   "execution_count": 15,
   "metadata": {
    "jupyter": {
     "source_hidden": true
    }
   },
   "outputs": [],
   "source": [
    "f=open('PEC_H.dat')\n",
    "boolean=True\n",
    "line=f.readline()[:-1].split()\n",
    "line=f.readline()[:-1].split()\n",
    "excitations=[]\n",
    "while boolean:\n",
    "    if '/TYPE' not in line:\n",
    "        boolean=False\n",
    "    else :\n",
    "        wavelenght=line[0]\n",
    "        reac_type=line[8]\n",
    "        Nde=int(line[1])\n",
    "        Nte=int(line[2])\n",
    "        nde=0\n",
    "        nte=0\n",
    "        den=[]\n",
    "        te=[]\n",
    "        data=np.zeros((Nde,Nte))\n",
    "        while (nde<Nde):\n",
    "            line=f.readline()[:-1].split()\n",
    "            nde+=len(line)\n",
    "            den=den+line\n",
    "        den=np.array(den,dtype=float)\n",
    "        while (nte<Nte):\n",
    "            line=f.readline()[:-1].split()\n",
    "            nte+=len(line)\n",
    "            te=te+line\n",
    "        te=np.array(te,dtype=float)\n",
    "        nde=0\n",
    "        for nde in range (Nde):\n",
    "            nte=0\n",
    "            while (nte<Nte):\n",
    "                line=f.readline()[:-1].split()\n",
    "                for j in range (len(line)):\n",
    "                    data[nde,nte]=line[j]\n",
    "                    nte+=1\n",
    "        excitations.append([data,wavelenght,reac_type])\n",
    "        line=f.readline()[:-1].split()\n",
    "\n",
    "for i in range (len(excitations)):\n",
    "    reaction=excitations[i]\n",
    "    if reaction[2]=='EXCIT':\n",
    "        if reaction[1]=='6561.9A':\n",
    "            H_alfa=reaction\n",
    "            H_alfa_int=interpolate.interp2d(den,te,H_alfa[0].T) \n",
    "        if reaction[1]=='4860.6A':\n",
    "            H_beta=reaction\n",
    "            H_beta_int=interpolate.interp2d(den,te,H_beta[0].T) \n",
    "        if reaction[1]=='4339.9A':\n",
    "            H_gamma=reaction\n",
    "            H_gamma_int=interpolate.interp2d(den,te,H_gamma[0].T) \n",
    "    if reaction[2]=='RECOM':\n",
    "        if reaction[1]=='6561.9A':\n",
    "            H_alfa_r=reaction\n",
    "            H_alfa_r_int=interpolate.interp2d(den,te,H_alfa_r[0].T) \n",
    "        if reaction[1]=='4860.6A':\n",
    "            H_beta_r=reaction\n",
    "            H_beta_r_int=interpolate.interp2d(den,te,H_beta_r[0].T) \n",
    "        if reaction[1]=='4339.9A':\n",
    "            H_gamma_r=reaction\n",
    "            H_gamma_r_int=interpolate.interp2d(den,te,H_gamma_r[0].T)         \n",
    "            "
   ]
  },
  {
   "cell_type": "markdown",
   "metadata": {},
   "source": [
    "### Resultado del Modelo Global"
   ]
  },
  {
   "cell_type": "code",
   "execution_count": 25,
   "metadata": {},
   "outputs": [],
   "source": [
    "Np,Nn=30,30\n",
    "pmin,pmax=1e5,2e6\n",
    "nmin,nmax=1e14,1e15\n",
    "gm=GlobalModel(R.reactions)\n",
    "nn,pp,nH2,nH,n1,n2,n3,ne,e=gm.TwoD_sol(pmin,pmax,nmin,nmax,Np,Nn)"
   ]
  },
  {
   "cell_type": "markdown",
   "metadata": {},
   "source": [
    "# Simular el espectro"
   ]
  },
  {
   "cell_type": "markdown",
   "metadata": {},
   "source": [
    "### PEC(ne,e) en funcion de la potencia y densidad de gas neutro:"
   ]
  },
  {
   "cell_type": "code",
   "execution_count": 26,
   "metadata": {},
   "outputs": [
    {
     "data": {
      "application/vnd.jupyter.widget-view+json": {
       "model_id": "2c28c6fcac734292985a6d6bbaeb49fd",
       "version_major": 2,
       "version_minor": 0
      },
      "text/plain": [
       "Canvas(toolbar=Toolbar(toolitems=[('Home', 'Reset original view', 'home', 'home'), ('Back', 'Back to previous …"
      ]
     },
     "metadata": {},
     "output_type": "display_data"
    },
    {
     "data": {
      "application/vnd.jupyter.widget-view+json": {
       "model_id": "4317e4bc41554818a01e04d2f4629981",
       "version_major": 2,
       "version_minor": 0
      },
      "text/plain": [
       "Canvas(toolbar=Toolbar(toolitems=[('Home', 'Reset original view', 'home', 'home'), ('Back', 'Back to previous …"
      ]
     },
     "metadata": {},
     "output_type": "display_data"
    },
    {
     "data": {
      "text/plain": [
       "Text(0.5, 0, '$P_\\\\mu$ (W/m$^{3}$)')"
      ]
     },
     "execution_count": 26,
     "metadata": {},
     "output_type": "execute_result"
    }
   ],
   "source": [
    "%matplotlib widget\n",
    "fig = plt.figure(figsize=(7,7))\n",
    "ax = fig.gca(projection='3d')\n",
    "H_alfa_map,H_beta_map,H_gamma_map=np.empty((Np,Nn)),np.empty((Np,Nn)),np.empty((Np,Nn))\n",
    "ne=n1+n2+n3\n",
    "for i in range (Np):\n",
    "    for j in range (Nn):\n",
    "        H_alfa_map[i,j]=H_alfa_int(ne[i,j],e[i,j])\n",
    "        H_beta_map[i,j]=H_beta_int(ne[i,j],e[i,j])\n",
    "        H_gamma_map[i,j]=H_gamma_int(ne[i,j],e[i,j])\n",
    "        \n",
    "ax.scatter(nn,pp,H_alfa_map,alpha=0.5,color='red',label='H_a')\n",
    "ax.scatter(nn,pp,H_beta_map,alpha=0.5,color='blue',label='H_b')\n",
    "ax.scatter(nn,pp,H_gamma_map,alpha=0.5,color='green',label='H_g')\n",
    "plt.xlabel('$n_0$ (cm$^{-3}$)')\n",
    "plt.ylabel('$P_\\mu$ (W/m$^{3}$)')\n",
    "plt.legend()\n",
    "\n",
    "fig = plt.figure(figsize=(7,7))\n",
    "ax = fig.gca(projection='3d')\n",
    "ax.scatter(nn,pp,H_beta_map/H_alfa_map,alpha=0.5)\n",
    "#ax.scatter(nn,pp,H_alfa_map/H_gamma_map,alpha=0.5)\n",
    "plt.xlabel('$n_0$ (cm$^{-3}$)')\n",
    "plt.ylabel('$P_\\mu$ (W/m$^{3}$)')"
   ]
  },
  {
   "cell_type": "markdown",
   "metadata": {},
   "source": [
    "# La emision de cada linea será ne * nH * PEC(ne,e)."
   ]
  },
  {
   "cell_type": "code",
   "execution_count": 27,
   "metadata": {},
   "outputs": [
    {
     "data": {
      "application/vnd.jupyter.widget-view+json": {
       "model_id": "5ea80ba2786e41abb606094572be86ed",
       "version_major": 2,
       "version_minor": 0
      },
      "text/plain": [
       "Canvas(toolbar=Toolbar(toolitems=[('Home', 'Reset original view', 'home', 'home'), ('Back', 'Back to previous …"
      ]
     },
     "metadata": {},
     "output_type": "display_data"
    },
    {
     "data": {
      "text/plain": [
       "<matplotlib.legend.Legend at 0x191babfdc40>"
      ]
     },
     "execution_count": 27,
     "metadata": {},
     "output_type": "execute_result"
    }
   ],
   "source": [
    "%matplotlib widget\n",
    "fig = plt.figure(figsize=(7,7))\n",
    "ax = fig.gca(projection='3d')\n",
    "H_alfa_map,H_beta_map,H_gamma_map=np.empty((xN,yN)),np.empty((xN,yN)),np.empty((xN,yN))\n",
    "H_alfa_r_map,H_beta_r_map,H_gamma_r_map=np.empty((xN,yN)),np.empty((xN,yN)),np.empty((xN,yN))\n",
    "ne=n1+n2+n3\n",
    "for i in range (xN):\n",
    "    for j in range (yN):\n",
    "        H_alfa_map[i,j]=H_alfa_int(ne[i,j],e[i,j])\n",
    "        H_beta_map[i,j]=H_beta_int(ne[i,j],e[i,j])\n",
    "        H_gamma_map[i,j]=H_gamma_int(ne[i,j],e[i,j])\n",
    "        H_alfa_r_map[i,j]=H_alfa_r_int(ne[i,j],e[i,j])\n",
    "        H_beta_r_map[i,j]=H_beta_r_int(ne[i,j],e[i,j])\n",
    "        H_gamma_r_map[i,j]=H_gamma_r_int(ne[i,j],e[i,j])\n",
    "        \n",
    "ax.scatter(nn,pp,(H_alfa_map*nH+H_alfa_r_map*n1)*ne,alpha=0.5,color='red',label='H_a intensity')\n",
    "ax.scatter(nn,pp,(H_beta_map*nH+H_beta_r_map*n1)*ne,alpha=0.5,color='blue',label='H_b intensity')\n",
    "ax.scatter(nn,pp,(H_beta_map*nH+H_beta_r_map*n1+H_alfa_map*nH+H_alfa_r_map*n1)*ne,alpha=0.5,color='purple',label='H_b+H_a intensity')\n",
    "\n",
    "plt.xlabel('$n_0$ (cm$^{-3}$)')\n",
    "plt.ylabel('$P_\\mu$ (W/m$^{3}$)')\n",
    "plt.legend()"
   ]
  },
  {
   "cell_type": "code",
   "execution_count": null,
   "metadata": {},
   "outputs": [],
   "source": []
  },
  {
   "cell_type": "code",
   "execution_count": null,
   "metadata": {},
   "outputs": [],
   "source": []
  }
 ],
 "metadata": {
  "kernelspec": {
   "display_name": "Python 3",
   "language": "python",
   "name": "python3"
  },
  "language_info": {
   "codemirror_mode": {
    "name": "ipython",
    "version": 3
   },
   "file_extension": ".py",
   "mimetype": "text/x-python",
   "name": "python",
   "nbconvert_exporter": "python",
   "pygments_lexer": "ipython3",
   "version": "3.8.3"
  }
 },
 "nbformat": 4,
 "nbformat_minor": 4
}
